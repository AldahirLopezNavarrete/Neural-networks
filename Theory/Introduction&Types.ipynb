{
 "cells": [
  {
   "cell_type": "markdown",
   "id": "a3c524aa",
   "metadata": {},
   "source": [
    "# Neural Networks\n",
    "\n",
    "* Is a piece of software\n",
    "* Is a model of the brain\n",
    "* Capable of reproducing some behaviors of the brain\n",
    "* Capable of learning and classifying\n",
    "\n",
    "### Typical Structure of a neural network:\n",
    " <img src=https://miro.medium.com/max/1400/1*-abk643OlEr7fEYtCT1M3A.png width=500 />\n",
    "\n",
    "\n",
    "## Types of classifiers:\n",
    "### Logistic regression (Perceptron)\n",
    "* Is a function with an input vector an a single return value, the function returns a value betweeen 0 and 1\n",
    "<img src=https://static.javatpoint.com/tutorial/machine-learning/images/logistic-regression-in-machine-learning.png width=300 />\n",
    "\n",
    "### K-Nearest Neighbors \n",
    "* This algorithm takes in a new sample of an unknown category shown as a circle near the center and classifies it in the same category as the majority of its K-nearest neighbors.\n",
    "<img src=https://cdn.analyticsvidhya.com/wp-content/uploads/2018/03/knn3.png width=300 />\n",
    "\n",
    "### Support Vector machines\n",
    "* One of the most useful features of support vector machines is that they are capable of finding something close to the optimal boundary, that is a line that separates the categories while maximizing its distance to every point in the plot. \n",
    "\n",
    "<img src=https://pimages.toolbox.com/wp-content/uploads/2022/09/02134804/Diagram-depicting-SVM-example-with-hyperplane-for-classification-problem.jpg width=300/>\n",
    "\n",
    "### Decision Tree\n",
    "* These algorithms have a tree-like structure of questions very much like a series of if-else statements, but not quite. It turns out that a decision tree uses a training algorithm based on information theory to produce the shortest possible tree, that is, to classify a new sample in the smallest number of steps.\n",
    " \n",
    " <img src=https://static.javatpoint.com/tutorial/machine-learning/images/decision-tree-classification-algorithm.png  width=300/>\n",
    " \n",
    " ### Feedforward neural networks\n",
    " \n",
    " * They were biologically inspired to mimic the brain. So although they end up performing like other tools, their architecture is very flexible. They may have as many outputs as needed in a single network and their learning algorithm is very clever and simple.\n",
    " \n",
    " <img src=https://miro.medium.com/max/1400/1*-abk643OlEr7fEYtCT1M3A.png width=500 />"
   ]
  },
  {
   "cell_type": "markdown",
   "id": "8800b04f",
   "metadata": {},
   "source": [
    "## Types of neural networks\n",
    "### Hopfield\n",
    "* Have a fully connected architecture\n",
    "*  The logic behind this architecture is to let the neurons collectively perform the necessary computation in an emerging manner.\n",
    "\n",
    "<img src=https://upload.wikimedia.org/wikipedia/commons/thumb/4/44/Hopfield-net-vector.svg/220px-Hopfield-net-vector.svg.png width=300/>\n",
    "\n",
    "### Feedforward model\n",
    "* They have a set of inputs, a series of layers of neurons with signals propagating forward until they reach the output. The success of these type of neural networks led to the development of a large family called deep neural networks which have a large number of neural layers between the input and the output.\n",
    "<img src=https://afit-r.github.io/public/images/analytics/deep_learning/deep_nn.png width=300/>\n"
   ]
  },
  {
   "cell_type": "markdown",
   "id": "77352065",
   "metadata": {},
   "source": [
    "## Multilayer Perceptron\n",
    "* The best-known feedforward neural network\n",
    "* It consists of neurons organized in layers\n",
    "* Data traverses the network from input to output"
   ]
  },
  {
   "cell_type": "code",
   "execution_count": null,
   "id": "8eef2115",
   "metadata": {},
   "outputs": [],
   "source": []
  }
 ],
 "metadata": {
  "kernelspec": {
   "display_name": "Python 3 (ipykernel)",
   "language": "python",
   "name": "python3"
  },
  "language_info": {
   "codemirror_mode": {
    "name": "ipython",
    "version": 3
   },
   "file_extension": ".py",
   "mimetype": "text/x-python",
   "name": "python",
   "nbconvert_exporter": "python",
   "pygments_lexer": "ipython3",
   "version": "3.11.2"
  }
 },
 "nbformat": 4,
 "nbformat_minor": 5
}
