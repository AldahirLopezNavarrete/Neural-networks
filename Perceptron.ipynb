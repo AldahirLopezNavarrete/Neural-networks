{
 "cells": [
  {
   "cell_type": "code",
   "execution_count": null,
   "id": "645049f2",
   "metadata": {},
   "outputs": [],
   "source": [
    "\"\"\"\n",
    "Implementation notes:\n",
    "* All values are real numbers\n",
    "* The weigths and inputs may be implemented as 1-D vectors\n",
    "*This way, the sum may be calculated in one operation z=w*x\n",
    "\"\"\"\n",
    "import numpy as np"
   ]
  },
  {
   "cell_type": "code",
   "execution_count": null,
   "id": "3d1f3645",
   "metadata": {},
   "outputs": [],
   "source": [
    "class Perceptron:\n",
    "    \"\"\" A single neuron with the sigmoid activate function\n",
    "        Attributtes:\n",
    "            inputs: The number of inputs in the perceptron, not cunting the bias\n",
    "            bias: the bias term. By default it´s 1.0\n",
    "    \"\"\"\n",
    "    \n",
    "    def __init__(self, inputs, bias = 1.0):\n",
    "        \"\"\"Return a new Perceptron object with the specified number of inputs +1 (for the bias)\"\"\"\n",
    "        self.weights = np.random.rand(inputs+1)*2 -1\n",
    "        self.bias = bias\n",
    "        \n",
    "    def run(self,x):\n",
    "        \"\"\"Run the perceptron. x is a python list with the input values.\"\"\"\n",
    "        x_sum = np.dot(np.append(x,self.bias),self.weights)\n",
    "        #this calculates the product point of the inputs and the weights\n",
    "        return self.sigmoid(x_sum)\n",
    "    \n",
    "    def set_weights(self,w_init):\n",
    "        \"\"\"Set the weights. w_init is a python list with the weights\"\"\"\n",
    "        self.weights = np.array(w_init)\n",
    "\n",
    "    \n",
    "    def sigmoid(self,x):\n",
    "        \"\"\"Evaluate the sigmoid function for thw floating point input x\"\"\"\n",
    "        return 1/(1 + np.exp(-x))\n"
   ]
  }
 ],
 "metadata": {
  "kernelspec": {
   "display_name": "Python 3 (ipykernel)",
   "language": "python",
   "name": "python3"
  },
  "language_info": {
   "codemirror_mode": {
    "name": "ipython",
    "version": 3
   },
   "file_extension": ".py",
   "mimetype": "text/x-python",
   "name": "python",
   "nbconvert_exporter": "python",
   "pygments_lexer": "ipython3",
   "version": "3.11.2"
  }
 },
 "nbformat": 4,
 "nbformat_minor": 5
}
