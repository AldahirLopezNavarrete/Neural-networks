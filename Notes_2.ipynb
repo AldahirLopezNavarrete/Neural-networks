{
 "cells": [
  {
   "cell_type": "markdown",
   "id": "0a3c13a6",
   "metadata": {},
   "source": [
    "# A simple model of a neuron\n",
    "\n",
    "\n",
    "<img src=https://www.researchgate.net/publication/327573940/figure/fig1/AS:669618242875399@1536660838422/Basic-Neuron-Model.png width=600/>\n",
    "\n"
   ]
  },
  {
   "cell_type": "markdown",
   "id": "6a30b380",
   "metadata": {},
   "source": [
    "# Bias Inputs\n",
    "\n",
    "* A weighted sum is a linear function\n",
    "* It has a weight assigned to each input\n",
    "* An independent input is needed to ove the line vertically\n",
    "* The bias input is always set to 1\n",
    "* The bias has its own weight\n",
    "* It produces a linear function that can place the boundary wherever it's needed. \n",
    "\n",
    "<img src=https://miro.medium.com/max/1400/1*upfpVueoUuKPkyX3PR3KBg.png width = 600/>\n",
    "\n",
    "\n",
    "# Activation Functions\n",
    "\n",
    "* Model the desired threshold behavior of the boundary\n",
    "* Usually constrain output values\n",
    "* Most importantly: provide non-linearity to the neuron\n",
    "* Enable training by backpropagation (must be differentiable)\n",
    "\n",
    "\n",
    "## Examples of activation functions:\n",
    "### Binary step function\n",
    "* The function returns 0 id x>=0 and 1 if x<0\n",
    "* The function jumps between 0 and 1\n",
    "<img src=https://assets-global.website-files.com/5d7b77b063a9066d83e1209c/60d2449a8f32de661dfd2c8b_pasted%20image%200%20(3).jpg width=300/>\n",
    "\n",
    "### Logistic or sigmoid Function\n",
    "* Outputs are real numbers between 0 and 1\n",
    "* f(x) = 1/(1+e^-x)\n",
    "<img src=https://upload.wikimedia.org/wikipedia/commons/thumb/8/88/Logistic-curve.svg/1200px-Logistic-curve.svg.png width=300/>\n",
    "\n",
    "### Hyperbolic Tangent Function\n",
    "* Outputs are real numbers between -1 and 1\n",
    "* f(x) = tanh(x)\n",
    "<img src=https://www.researchgate.net/publication/326279910/figure/fig1/AS:675145723162632@1537978692947/Hyperbolic-tangent-activation-function.png width=300/>\n",
    "\n",
    "### Rectified Linear Unit Function\n",
    "* limits outputs to positive values\n",
    "* Outputs 0 for x<0, and x for x>=0\n",
    "<img src=https://machinelearningmastery.com/wp-content/uploads/2018/10/Line-Plot-of-Rectified-Linear-Activation-for-Negative-and-Positive-Inputs.png width=300/>\n",
    "\n",
    "\n",
    "\n",
    "## Perceptrons\n",
    "* The output comes for the sigmoid function\n",
    "* The output is greater than 0.5 for a positive input\n",
    "\n",
    "<img src=https://i.stack.imgur.com/Waz75.png width=600/>"
   ]
  },
  {
   "cell_type": "code",
   "execution_count": null,
   "id": "91cae58d",
   "metadata": {},
   "outputs": [],
   "source": []
  }
 ],
 "metadata": {
  "kernelspec": {
   "display_name": "Python 3 (ipykernel)",
   "language": "python",
   "name": "python3"
  },
  "language_info": {
   "codemirror_mode": {
    "name": "ipython",
    "version": 3
   },
   "file_extension": ".py",
   "mimetype": "text/x-python",
   "name": "python",
   "nbconvert_exporter": "python",
   "pygments_lexer": "ipython3",
   "version": "3.11.2"
  }
 },
 "nbformat": 4,
 "nbformat_minor": 5
}
