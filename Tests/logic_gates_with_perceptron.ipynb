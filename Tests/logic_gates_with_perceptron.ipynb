{
 "cells": [
  {
   "cell_type": "code",
   "execution_count": 6,
   "id": "d8bb61f5",
   "metadata": {},
   "outputs": [],
   "source": [
    "\"\"\"\n",
    "Implementation notes:\n",
    "* All values are real numbers\n",
    "* The weigths and inputs may be implemented as 1-D vectors\n",
    "*This way, the sum may be calculated in one operation z=w*x\n",
    "\"\"\"\n",
    "\n",
    "import numpy as np"
   ]
  },
  {
   "cell_type": "code",
   "execution_count": 7,
   "id": "cd961c64",
   "metadata": {},
   "outputs": [],
   "source": [
    "class Perceptron:\n",
    "    \"\"\" A single neuron with the sigmoid activate function\n",
    "        Attributtes:\n",
    "            inputs: The number of inputs in the perceptron, not cunting the bias\n",
    "            bias: the bias term. By default it´s 1.0\n",
    "    \"\"\"\n",
    "    \n",
    "    def __init__(self, inputs, bias = 1.0):\n",
    "        \"\"\"Return a new Perceptron object with the specified number of inputs +1 (for the bias)\"\"\"\n",
    "        self.weights = np.random.rand(inputs+1)*2 -1\n",
    "        self.bias = bias\n",
    "        \n",
    "    def run(self,x):\n",
    "        \"\"\"Run the perceptron. x is a python list with the input values.\"\"\"\n",
    "        x_sum = np.dot(np.append(x,self.bias),self.weights)\n",
    "        #this calculates the product point of the inputs and the weights\n",
    "        return self.sigmoid(x_sum)\n",
    "    \n",
    "    def set_weights(self,w_init):\n",
    "        \"\"\"Set the weights. w_init is a python list with the weights\"\"\"\n",
    "        self.weights = np.array(w_init)\n",
    "\n",
    "    \n",
    "    def sigmoid(self,x):\n",
    "        \"\"\"Evaluate the sigmoid function for thw floating point input x\"\"\"\n",
    "        return 1/(1 + np.exp(-x))\n"
   ]
  },
  {
   "cell_type": "markdown",
   "id": "aeac963b",
   "metadata": {},
   "source": [
    "# Testing with logic gates\n",
    "## AND GATE\n",
    "<img src=https://haygot.s3.amazonaws.com/questions/1218022_1511917_ans_f5abd499d0c44e4e988017391724e31e.png width=400/>\n"
   ]
  },
  {
   "cell_type": "code",
   "execution_count": 12,
   "id": "fa3ea28d",
   "metadata": {},
   "outputs": [
    {
     "name": "stdout",
     "output_type": "stream",
     "text": [
      "AND Gate:\n",
      "0 0 = 0.0000003059\n",
      "0 1 = 0.0066928509\n",
      "1 0 = 0.0066928509\n",
      "1 1 = 0.9933071491\n"
     ]
    }
   ],
   "source": [
    "#test code\n",
    "neuron = Perceptron(inputs=2)\n",
    "neuron.set_weights([10,10,-15])\n",
    "\n",
    "#this is an AND gate\n",
    "print(\"AND Gate:\")\n",
    "print(\"0 0 = {0:.10f}\".format(neuron.run([0,0])))\n",
    "print(\"0 1 = {0:.10f}\".format(neuron.run([0,1])))\n",
    "print(\"1 0 = {0:.10f}\".format(neuron.run([1,0])))\n",
    "print(\"1 1 = {0:.10f}\".format(neuron.run([1,1])))"
   ]
  },
  {
   "cell_type": "markdown",
   "id": "c5b4cb5d",
   "metadata": {},
   "source": [
    "## OR GATE\n",
    "<img src=https://haygot.s3.amazonaws.com/questions/657636_623645_ans_b5043da31fb448249144c1398f9d83eb.PNG width=400/>\n"
   ]
  },
  {
   "cell_type": "code",
   "execution_count": 11,
   "id": "a09ddd3e",
   "metadata": {},
   "outputs": [
    {
     "name": "stdout",
     "output_type": "stream",
     "text": [
      "AND Gate:\n",
      "0 0 = 0.0000453979\n",
      "0 1 = 0.9933071491\n",
      "1 0 = 0.9933071491\n",
      "1 1 = 0.9999999979\n"
     ]
    }
   ],
   "source": [
    "neuron = Perceptron(inputs=2)\n",
    "neuron.set_weights([15,15,-10])\n",
    "\n",
    "#this is an AND gate\n",
    "print(\"AND Gate:\")\n",
    "print(\"0 0 = {0:.10f}\".format(neuron.run([0,0])))\n",
    "print(\"0 1 = {0:.10f}\".format(neuron.run([0,1])))\n",
    "print(\"1 0 = {0:.10f}\".format(neuron.run([1,0])))\n",
    "print(\"1 1 = {0:.10f}\".format(neuron.run([1,1])))"
   ]
  }
 ],
 "metadata": {
  "kernelspec": {
   "display_name": "Python 3 (ipykernel)",
   "language": "python",
   "name": "python3"
  },
  "language_info": {
   "codemirror_mode": {
    "name": "ipython",
    "version": 3
   },
   "file_extension": ".py",
   "mimetype": "text/x-python",
   "name": "python",
   "nbconvert_exporter": "python",
   "pygments_lexer": "ipython3",
   "version": "3.11.2"
  }
 },
 "nbformat": 4,
 "nbformat_minor": 5
}
