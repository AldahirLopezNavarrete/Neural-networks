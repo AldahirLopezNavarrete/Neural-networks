{
 "cells": [
  {
   "cell_type": "markdown",
   "id": "73d31c70",
   "metadata": {},
   "source": [
    "# Linear separability\n",
    "\n",
    "* Is a property of a data set with two categories where a linear function can separate the categories. \n",
    "\n",
    "<img src=http://www.tarekatwan.com/wp-content/uploads/2017/12/linear_sep-1024x419.png width=300/>\n"
   ]
  },
  {
   "cell_type": "code",
   "execution_count": 8,
   "id": "2509e6ab",
   "metadata": {},
   "outputs": [],
   "source": [
    "import numpy as np"
   ]
  },
  {
   "cell_type": "code",
   "execution_count": 13,
   "id": "f35918e1",
   "metadata": {},
   "outputs": [],
   "source": [
    "class Perceptron:\n",
    "    \"\"\" A single neuron with the sigmoid activate function\n",
    "        Attributtes:\n",
    "            inputs: The number of inputs in the perceptron, not cunting the bias\n",
    "            bias: the bias term. By default it´s 1.0\n",
    "    \"\"\"\n",
    "    \n",
    "    def __init__(self, inputs, bias = 1.0):\n",
    "        \"\"\"Return a new Perceptron object with the specified number of inputs +1 (for the bias)\"\"\"\n",
    "        self.weights = np.random.rand(inputs+1)*2 -1\n",
    "        self.bias = bias\n",
    "        \n",
    "    def run(self,x):\n",
    "        \"\"\"Run the perceptron. x is a python list with the input values.\"\"\"\n",
    "        x_sum = np.dot(np.append(x,self.bias),self.weights)\n",
    "        #this calculates the product point of the inputs and the weights\n",
    "        return self.sigmoid(x_sum)\n",
    "    \n",
    "    def set_weights(self,w_init):\n",
    "        \"\"\"Set the weights. w_init is a python list with the weights\"\"\"\n",
    "        self.weights = np.array(w_init)\n",
    "\n",
    "    \n",
    "    def sigmoid(self,x):\n",
    "        \"\"\"Evaluate the sigmoid function for thw floating point input x\"\"\"\n",
    "        return 1/(1 + np.exp(-x))\n",
    "\n",
    "\n",
    "class MultiLayerPerceptron:\n",
    "    \"\"\"A multilayer perceptron class that uses the perceptron class above.\n",
    "        Attributtes:\n",
    "            layers: A python list with the number of elements per layer\n",
    "            bias: The bias term. The same bias is used for all neurons\n",
    "            eta: The learning rate\"\"\"\n",
    "    def __init__(self,layers,bias=1.0):\n",
    "        \"\"\"Return a new MLP object with the specified parameters\"\"\"\n",
    "        self.layers = np.array(layers,dtype=object)\n",
    "        self.bias=bias\n",
    "        self.network=[] #the list of all neurons\n",
    "        self.values=[] #the list of all output values\n",
    "        \n",
    "        for i in range(len(self.layers)):\n",
    "            self.values.append([])\n",
    "            self.network.append([])\n",
    "            self.values[i] = [0.0 for j in range(self.layers[i])]\n",
    "            if i>0:\n",
    "                for j in range(self.layers[i]):\n",
    "                    self.network[i].append(Perceptron(inputs=self.layers[i-1],bias=self.bias))\n",
    "    \n",
    "        self.network = np.array([np.array(x) for x in self.network],dtype=object)\n",
    "        self.values=np.array([np.array(x) for x in self.values],dtype=object)\n",
    "        \n",
    "    \n",
    "    def set_weights(self,w_init):\n",
    "        \"\"\"set the weights.\n",
    "            w_init is a list of lists with the weights for all, but the input layer\"\"\"\n",
    "        for i in range(len(w_init)):\n",
    "            for j in range(len(w_init[i])):\n",
    "                self.network[i+1][j].set_weights(w_init[i][j])\n",
    "                \n",
    "    def printWeights(self):\n",
    "        print()\n",
    "        for i in range(1,len(self.network)):\n",
    "            for j in range(self.layers[i]):\n",
    "                print(\"Layer\",i+1,\"Neuron\",j,self.network[i][j].weights)\n",
    "            print()\n",
    "            \n",
    "    def run(self,x):\n",
    "        \"\"\"Feed a sample x into the multilayer perceptron\"\"\"\n",
    "        x=np.array(x,dtype=object)\n",
    "        self.values[0]=x\n",
    "        for i in range(1,len(self.network)):\n",
    "            for j in range(self.layers[i]):\n",
    "                self.values[i][j]= self.network[i][j].run(self.values[i-1])\n",
    "        return self.values[-1]\n",
    "                "
   ]
  },
  {
   "cell_type": "markdown",
   "id": "b2862917",
   "metadata": {},
   "source": [
    "# Testing\n",
    "* For testing we will reply the functionality of an XOR gate\n",
    "<img src=https://www.build-electronic-circuits.com/wp-content/uploads/2022/09/Truth-table-XOR-gate-417x500.png width=400/>\n",
    "    "
   ]
  },
  {
   "cell_type": "code",
   "execution_count": 14,
   "id": "cb245507",
   "metadata": {
    "scrolled": true
   },
   "outputs": [
    {
     "name": "stdout",
     "output_type": "stream",
     "text": [
      "\n",
      "Layer 2 Neuron 0 [-10 -10  15]\n",
      "Layer 2 Neuron 1 [ 15  15 -10]\n",
      "\n",
      "Layer 3 Neuron 0 [ 10  10 -15]\n",
      "\n",
      "MLP:\n",
      "0 0 = 0.0066958493\n",
      "0 1 = 0.9923558642\n",
      "1 0 = 0.9923558642\n",
      "1 1 = 0.0071528098\n"
     ]
    }
   ],
   "source": [
    "#test code\n",
    "mlp = MultiLayerPerceptron(layers=[2,2,1])\n",
    "mlp.set_weights([[[-10,-10,15],[15,15,-10]],[[10,10,-15]]])\n",
    "mlp.printWeights()\n",
    "print(\"MLP:\")\n",
    "print(\"0 0 = {0:.10f}\".format(mlp.run([0,0])[0]))\n",
    "print(\"0 1 = {0:.10f}\".format(mlp.run([0,1])[0]))\n",
    "print(\"1 0 = {0:.10f}\".format(mlp.run([1,0])[0]))\n",
    "print(\"1 1 = {0:.10f}\".format(mlp.run([1,1])[0]))"
   ]
  }
 ],
 "metadata": {
  "kernelspec": {
   "display_name": "Python 3 (ipykernel)",
   "language": "python",
   "name": "python3"
  },
  "language_info": {
   "codemirror_mode": {
    "name": "ipython",
    "version": 3
   },
   "file_extension": ".py",
   "mimetype": "text/x-python",
   "name": "python",
   "nbconvert_exporter": "python",
   "pygments_lexer": "ipython3",
   "version": "3.11.2"
  }
 },
 "nbformat": 4,
 "nbformat_minor": 5
}
